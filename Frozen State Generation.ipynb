{
 "cells": [
  {
   "cell_type": "code",
   "execution_count": 1,
   "metadata": {},
   "outputs": [],
   "source": [
    "import pyximport; pyximport.install()\n",
    "from poker import *\n",
    "\n",
    "import pickle\n",
    "import functools\n",
    "import multiprocessing as mp\n",
    "\n",
    "PATH_TO_FOLDER = \"Frozen States/\""
   ]
  },
  {
   "cell_type": "code",
   "execution_count": 2,
   "metadata": {},
   "outputs": [],
   "source": [
    "def makeNewGameloop(index, street):\n",
    "    gh = None\n",
    "    while True:\n",
    "        gh = GameHandler(2, [CFRAI(), CFRAI()], 1000, 10)\n",
    "        if (index % 2) == 1:\n",
    "            gh.game.setup()\n",
    "        gh.run_gameloop_upTo(cutoff_street=street)\n",
    "        gh.agents = []\n",
    "\n",
    "        if gh.game.active_players > 1:\n",
    "            break\n",
    "    \n",
    "    return gh.game"
   ]
  },
  {
   "cell_type": "code",
   "execution_count": 3,
   "metadata": {},
   "outputs": [],
   "source": [
    "def saveGameloops(output_file, street, n=80000):\n",
    "    frozen_gameloops = []\n",
    "    input_list = range(0, n)\n",
    "    \n",
    "    pool = mp.Pool(mp.cpu_count())\n",
    "    frozen_gameloops = pool.map(functools.partial(makeNewGameloop, street=street), input_list)\n",
    "    pool.terminate\n",
    "    \n",
    "    pickle.dump(frozen_gameloops, open(PATH_TO_FOLDER + output_file, \"wb\"))"
   ]
  },
  {
   "cell_type": "markdown",
   "metadata": {},
   "source": [
    "# FLOP"
   ]
  },
  {
   "cell_type": "code",
   "execution_count": 5,
   "metadata": {},
   "outputs": [],
   "source": [
    "saveGameloops(\"1-Flop/frozen_games.pickle\", 1, 80000)"
   ]
  },
  {
   "cell_type": "markdown",
   "metadata": {},
   "source": [
    "# TURN"
   ]
  },
  {
   "cell_type": "code",
   "execution_count": 6,
   "metadata": {},
   "outputs": [],
   "source": [
    "saveGameloops(\"2-Turn/frozen_games.pickle\", 2, 80000)"
   ]
  },
  {
   "cell_type": "markdown",
   "metadata": {},
   "source": [
    "# RIVER"
   ]
  },
  {
   "cell_type": "code",
   "execution_count": 7,
   "metadata": {},
   "outputs": [],
   "source": [
    "saveGameloops(\"3-River/frozen_games.pickle\", 3, 80000)"
   ]
  }
 ],
 "metadata": {
  "kernelspec": {
   "display_name": "Python 2.X(Fernando)",
   "language": "python",
   "name": "python2.fms"
  },
  "language_info": {
   "codemirror_mode": {
    "name": "ipython",
    "version": 2
   },
   "file_extension": ".py",
   "mimetype": "text/x-python",
   "name": "python",
   "nbconvert_exporter": "python",
   "pygments_lexer": "ipython2",
   "version": "2.7.14"
  }
 },
 "nbformat": 4,
 "nbformat_minor": 2
}
