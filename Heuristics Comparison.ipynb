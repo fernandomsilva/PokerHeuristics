{
 "cells": [
  {
   "cell_type": "code",
   "execution_count": 1,
   "metadata": {},
   "outputs": [],
   "source": [
    "import pyximport; pyximport.install()\n",
    "from gpcode import *"
   ]
  },
  {
   "cell_type": "code",
   "execution_count": 2,
   "metadata": {},
   "outputs": [],
   "source": [
    "def makePopulation(heuristic_list_filename):\n",
    "    population = []\n",
    "    heuristic_file = open(heuristic_list_filename, 'r')\n",
    "    \n",
    "    for line in heuristic_file:\n",
    "        if len(line) > 3:\n",
    "            #population.append(gp.PrimitiveTree.from_string(line, pset))\n",
    "            population.append(line)\n",
    "    \n",
    "    heuristic_file.close()\n",
    "    \n",
    "    return population"
   ]
  },
  {
   "cell_type": "code",
   "execution_count": 3,
   "metadata": {},
   "outputs": [],
   "source": [
    "num_sims = 80000 * 40\n",
    "\n",
    "toolbox.register(\"evaluate\", evaluate, n=num_sims)\n",
    "\n",
    "heuristic_list_filename = \"Comparison Results/list_of_heuristics.txt\"\n",
    "\n",
    "population = makePopulation(heuristic_list_filename)\n",
    "\n",
    "temp = []\n",
    "for i in range(0, len(population)):\n",
    "    heuristic = simplifyTree(simplifyByRemovingStatements(gp.PrimitiveTree.from_string(population[i], pset), all_hands), all_hands)\n",
    "    if not isThereCopyOfIndividual(temp, heuristic):\n",
    "        temp.append(heuristic)\n",
    "\n",
    "population = temp\n",
    "\n",
    "csv_filename = \"Comparison Results/mapping-\" + machine_alias + \".csv.txt\"\n",
    "createLogFile(csv_filename, \"Num Sims; Heuristic; Complexity; Fitness;\\n\")\n",
    "\n",
    "population = findFitness(population)\n",
    "\n",
    "for p in population:\n",
    "    logToFile(csv_filename, str(num_sims) + \"; \" + str(p) + \"; \" + str(findComplexity(p)) + \"; \" + str(p.fitness[0]) + \";\\n\")\n"
   ]
  },
  {
   "cell_type": "code",
   "execution_count": 4,
   "metadata": {},
   "outputs": [],
   "source": [
    "num_sims = 80000 * 20\n",
    "\n",
    "toolbox.register(\"evaluate\", evaluateJustCepheus, n=num_sims)\n",
    "\n",
    "heuristic_list_filename = \"Comparison Results/list_of_heuristics.txt\"\n",
    "\n",
    "population = makePopulation(heuristic_list_filename)\n",
    "\n",
    "temp = []\n",
    "for i in range(0, len(population)):\n",
    "    heuristic = simplifyTree(simplifyByRemovingStatements(gp.PrimitiveTree.from_string(population[i], pset), all_hands), all_hands)\n",
    "    if not isThereCopyOfIndividual(temp, heuristic):\n",
    "        temp.append(heuristic)\n",
    "\n",
    "population = temp\n",
    "\n",
    "csv_filename = \"Comparison Results/just-Cepheus-mapping-\" + machine_alias + \".csv.txt\"\n",
    "createLogFile(csv_filename, \"Num Sims; Heuristic; Complexity; Fitness;\\n\")\n",
    "\n",
    "population = findFitness(population)\n",
    "\n",
    "for p in population:\n",
    "    logToFile(csv_filename, str(num_sims) + \"; \" + str(p) + \"; \" + str(findComplexity(p)) + \"; \" + str(p.fitness[0]) + \";\\n\")\n"
   ]
  },
  {
   "cell_type": "code",
   "execution_count": 5,
   "metadata": {},
   "outputs": [],
   "source": [
    "num_sims = 80000 * 20\n",
    "\n",
    "toolbox.register(\"evaluate\", evaluateJustCepheus, n=num_sims)\n",
    "\n",
    "heuristic_list_filename = \"Comparison Results/list_of_heuristics.txt\"\n",
    "\n",
    "population = makePopulation(heuristic_list_filename)\n",
    "\n",
    "temp = []\n",
    "for i in range(0, len(population)):\n",
    "    heuristic = simplifyTree(simplifyByRemovingStatements(gp.PrimitiveTree.from_string(population[i], pset), all_hands), all_hands)\n",
    "    if not isThereCopyOfIndividual(temp, heuristic):\n",
    "        temp.append(heuristic)\n",
    "\n",
    "population = temp\n",
    "\n",
    "csv_filename = \"Comparison Results/just-TopTen-mapping-\" + machine_alias + \".csv.txt\"\n",
    "createLogFile(csv_filename, \"Num Sims; Heuristic; Complexity; Fitness;\\n\")\n",
    "\n",
    "population = findFitness(population)\n",
    "\n",
    "for p in population:\n",
    "    logToFile(csv_filename, str(num_sims) + \"; \" + str(p) + \"; \" + str(findComplexity(p)) + \"; \" + str(p.fitness[0]) + \";\\n\")\n"
   ]
  },
  {
   "cell_type": "code",
   "execution_count": null,
   "metadata": {},
   "outputs": [],
   "source": []
  }
 ],
 "metadata": {
  "kernelspec": {
   "display_name": "Python 2.X(Fernando)",
   "language": "python",
   "name": "python2.fms"
  },
  "language_info": {
   "codemirror_mode": {
    "name": "ipython",
    "version": 2
   },
   "file_extension": ".py",
   "mimetype": "text/x-python",
   "name": "python",
   "nbconvert_exporter": "python",
   "pygments_lexer": "ipython2",
   "version": "2.7.14"
  }
 },
 "nbformat": 4,
 "nbformat_minor": 2
}
