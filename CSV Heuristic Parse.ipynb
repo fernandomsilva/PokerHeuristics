{
 "cells": [
  {
   "cell_type": "code",
   "execution_count": 8,
   "metadata": {
    "collapsed": true
   },
   "outputs": [],
   "source": [
    "import csv\n",
    "from deap import gp\n",
    "\n",
    "machine_alias = 'Hemera'\n",
    "#filename = 'AAS Results/mapping-' + machine_alias + '.csv.txt' "
   ]
  },
  {
   "cell_type": "code",
   "execution_count": 2,
   "metadata": {
    "collapsed": true
   },
   "outputs": [],
   "source": [
    "class Individual:\n",
    "    def __init__(self, heuristic, fitness):\n",
    "        temp_heuristic = heuristic\n",
    "        if temp_heuristic[-1] == ',':\n",
    "            temp_heuristic = temp_heuristic[:-1]\n",
    "        if temp_heuristic[-1] == '\"' or temp_heuristic[-1] == \"'\":\n",
    "            temp_heuristic = temp_heuristic[:-1]\n",
    "        if temp_heuristic[0] == \"'\" or temp_heuristic[0] == '\"':\n",
    "            temp_heuristc = temp_heuristic[1:]\n",
    "        self.heuristic = temp_heuristic\n",
    "        \n",
    "        temp_fitness = fitness\n",
    "        if temp_fitness[0] == \"(\":\n",
    "            temp_fitness = temp_fitness[1:]\n",
    "        if temp_fitness[-2:] == \",)\":\n",
    "            temp_fitness = temp_fitness[:-2]\n",
    "        self.fitness = float(temp_fitness)\n",
    "    \n",
    "    def __lt__(self, ind):\n",
    "        return self.fitness < ind.fitness\n",
    "    \n",
    "    def __eq__(self, ind):\n",
    "        return self.fitness == ind.fitness\n",
    "    \n",
    "    def __str__(self):\n",
    "        return self.heuristic + ' | ' + str(self.fitness)"
   ]
  },
  {
   "cell_type": "code",
   "execution_count": 3,
   "metadata": {
    "collapsed": true
   },
   "outputs": [],
   "source": [
    "def extractDictFromCSV(filename):\n",
    "    data = []\n",
    "    data_order = []\n",
    "    data_dict_format = {}\n",
    "\n",
    "    with open(filename, 'rb') as csvfile:\n",
    "        spamreader = csv.reader(csvfile, delimiter=';', quotechar='|')\n",
    "        for x in spamreader.next():\n",
    "            temp = x\n",
    "            if x != '':\n",
    "                if x[0] == ' ':\n",
    "                    temp = x[1:]\n",
    "                data_order.append(temp)\n",
    "                data_dict_format[temp] = None\n",
    "\n",
    "        #print data_order\n",
    "\n",
    "        for row in spamreader:\n",
    "            data.append(dict(data_dict_format))\n",
    "            count = len(data_dict_format.keys())\n",
    "            #print \"=========\"\n",
    "            for x in row:\n",
    "                temp = x\n",
    "                if x != '':\n",
    "                    if x[0] == ' ':\n",
    "                        temp = x[1:]\n",
    "\n",
    "                    #print data_order[len(data_dict_format.keys()) - count]\n",
    "                    #print temp\n",
    "\n",
    "                    data[-1][data_order[len(data_dict_format.keys())- count]] = temp\n",
    "                    count -= 1\n",
    "    return data"
   ]
  },
  {
   "cell_type": "code",
   "execution_count": 4,
   "metadata": {
    "collapsed": true
   },
   "outputs": [],
   "source": [
    "def extractIndividualsFromData(data, ind_field=['EndTree'], fitness_field=['Fitness'], condition=[]):\n",
    "    population = []\n",
    "    for d in data:\n",
    "        flag = False\n",
    "        if condition != []:\n",
    "            for cond in condition:\n",
    "                if not cond[0](cond[2](d[cond[1]]), cond[3]):\n",
    "                    flag = True\n",
    "                    break\n",
    "        if flag:\n",
    "            continue\n",
    "        for k in range(0, len(ind_field)):\n",
    "            ind_key = ind_field[k]\n",
    "            fit_key = fitness_field[k]\n",
    "            population.append(Individual(d[ind_key], d[fit_key]))\n",
    "    \n",
    "    return population"
   ]
  },
  {
   "cell_type": "code",
   "execution_count": 5,
   "metadata": {
    "collapsed": true
   },
   "outputs": [],
   "source": [
    "def topK(population, k):\n",
    "    if k > len(population):\n",
    "        return population\n",
    "    return population[:k]"
   ]
  },
  {
   "cell_type": "code",
   "execution_count": 54,
   "metadata": {
    "collapsed": true
   },
   "outputs": [],
   "source": [
    "def heuristicDepthGE(ind, val):\n",
    "    count = ind.count(\"IfThenElse\")\n",
    "    \n",
    "    return count >= val\n",
    "\n",
    "def heuristicDepthLE(ind, val):\n",
    "    count = ind.count(\"IfThenElse\")\n",
    "    \n",
    "    return count <= val\n",
    "\n",
    "def heuristicDepthEQ(ind, val):\n",
    "    count = ind.count(\"IfThenElse\")\n",
    "    \n",
    "    return count == val"
   ]
  },
  {
   "cell_type": "code",
   "execution_count": 60,
   "metadata": {},
   "outputs": [],
   "source": [
    "import operator\n",
    "\n",
    "aas_filename = 'AAS Results/mapping-' + machine_alias + '.csv.txt' \n",
    "aas_fields = [['EndTree'], ['Fitness']]\n",
    "aas_conditions = [[heuristicDepthEQ, 'EndTree', str, 2]]\n",
    "\n",
    "gp_filename = 'GP Results/mapping-' + machine_alias + '.csv.txt'\n",
    "gp_fields = [['Top1', 'Top2', 'Top3'], ['Fitness-top1', 'Fitness-top2', 'Fitness-top3']]\n",
    "gp_conditions = [[operator.ge, 'Num Sims', int, 480000]]\n",
    "\n",
    "alg = 'aas'\n",
    "\n",
    "if alg == 'gp':\n",
    "    filename = gp_filename\n",
    "    fields = gp_fields\n",
    "    conditions = gp_conditions\n",
    "elif alg == 'aas':\n",
    "    filename = aas_filename\n",
    "    fields = aas_fields\n",
    "    conditions = aas_conditions\n",
    "else:\n",
    "    filename = None\n",
    "    fields = None\n",
    "    conditions = None"
   ]
  },
  {
   "cell_type": "code",
   "execution_count": 61,
   "metadata": {},
   "outputs": [
    {
     "name": "stdout",
     "output_type": "stream",
     "text": [
      "\"IfThenElse(lowestCardGE(ARG0, 11), 'raise', IfThenElse(hasDoubles(ARG0), 'check', 'fold'))\",\n",
      "\"IfThenElse(and_(lowestCardLE(ARG0, 9), and_(hasDoubles(ARG0), lowestCardGE(ARG0, 2))), 'check', IfThenElse(hasDoubles(ARG0), 'raise', 'fold'))\",\n",
      "\"IfThenElse(lowestCardGE(ARG0, 13), 'raise', IfThenElse(hasDoubles(ARG0), 'check', 'fold'))\",\n",
      "\"IfThenElse(lowestCardLE(ARG0, 11), 'fold', IfThenElse(highestCardLE(ARG0, 12), 'check', 'raise'))\",\n",
      "\"IfThenElse(and_(highestCardGE(ARG0, 10), hasDoubles(ARG0)), 'raise', IfThenElse(highestCardLE(ARG0, 13), 'fold', 'check'))\",\n",
      "\"IfThenElse(isSameSuit(ARG0), 'fold', IfThenElse(and_(highestCardGE(ARG0, 2), lowestCardLE(ARG0, 11)), 'fold', 'raise'))\",\n",
      "\"IfThenElse(hasDoubles(ARG0), 'raise', IfThenElse(lowestCardLE(ARG0, 11), 'fold', 'check'))\",\n",
      "\"IfThenElse(lowestCardGE(ARG0, 12), 'raise', IfThenElse(totalPotGE(ARG1, 27), 'check', 'fold'))\",\n",
      "\"IfThenElse(lowestCardGE(ARG0, 10), 'raise', IfThenElse(totalPotLE(ARG1, 11), 'fold', 'check'))\",\n",
      "\"IfThenElse(hasDoubles(ARG0), 'raise', IfThenElse(highestCardLE(ARG0, 3), 'check', 'fold'))\",\n"
     ]
    }
   ],
   "source": [
    "csv_data = extractDictFromCSV(filename)\n",
    "parsed_data = extractIndividualsFromData(csv_data, ind_field=fields[0], fitness_field=fields[1], condition=conditions)\n",
    "parsed_data = sorted(parsed_data, reverse=True)\n",
    "\n",
    "top = topK(parsed_data, 10)\n",
    "\n",
    "#for d in top:\n",
    "#    print d\n",
    "for d in top:\n",
    "    print '\"' + d.heuristic + '\",'"
   ]
  }
 ],
 "metadata": {
  "anaconda-cloud": {},
  "kernelspec": {
   "display_name": "Environment (conda_fernandopython2.7)",
   "language": "python",
   "name": "conda_fernandopython2.7"
  },
  "language_info": {
   "codemirror_mode": {
    "name": "ipython",
    "version": 2
   },
   "file_extension": ".py",
   "mimetype": "text/x-python",
   "name": "python",
   "nbconvert_exporter": "python",
   "pygments_lexer": "ipython2",
   "version": "2.7.14"
  }
 },
 "nbformat": 4,
 "nbformat_minor": 1
}
