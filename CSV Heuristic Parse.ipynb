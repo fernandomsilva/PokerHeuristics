{
 "cells": [
  {
   "cell_type": "code",
   "execution_count": 25,
   "metadata": {
    "collapsed": false
   },
   "outputs": [
    {
     "name": "stdout",
     "output_type": "stream",
     "text": [
      "['Starting Tree', 'isRandom', 'EndTree', 'num of games', 'Fitness', 'File']\n"
     ]
    }
   ],
   "source": [
    "import csv\n",
    "\n",
    "machine_alias = 'Abraxas'\n",
    "\n",
    "data = []\n",
    "data_order = []\n",
    "data_dict_format = {}\n",
    "\n",
    "with open('AAS Results/mapping-' + machine_alias + '.csv.txt', 'rb') as csvfile:\n",
    "    spamreader = csv.reader(csvfile, delimiter=';', quotechar='|')\n",
    "    for x in spamreader.next():\n",
    "        temp = x\n",
    "        if x != '':\n",
    "            if x[0] == ' ':\n",
    "                temp = x[1:]\n",
    "            data_order.append(temp)\n",
    "            data_dict_format[temp] = None\n",
    "    \n",
    "    print data_order\n",
    "    \n",
    "    for row in spamreader:\n",
    "        data.append(dict(data_dict_format))\n",
    "        count = len(data_dict_format.keys())\n",
    "        #print \"=========\"\n",
    "        for x in row:\n",
    "            temp = x\n",
    "            if x != '':\n",
    "                if x[0] == ' ':\n",
    "                    temp = x[1:]\n",
    "                \n",
    "                #print data_order[len(data_dict_format.keys()) - count]\n",
    "                #print temp\n",
    "\n",
    "                data[-1][data_order[len(data_dict_format.keys())- count]] = temp\n",
    "                count -= 1\n"
   ]
  },
  {
   "cell_type": "code",
   "execution_count": 28,
   "metadata": {
    "collapsed": false
   },
   "outputs": [
    {
     "name": "stdout",
     "output_type": "stream",
     "text": [
      "\"IfThenElse(lowestCardLE(ARG0, 8), 'fold', IfThenElse(hasDoubles(ARG0), 'raise', IfThenElse(totalPotGE(ARG1, 25), 'check', 'fold')))\",\n",
      "\"IfThenElse(lowestCardGE(ARG0, 11), 'raise', IfThenElse(lowestCardGE(ARG0, 9), 'check', IfThenElse(totalPotLE(ARG1, 5), 'fold', IfThenElse(hasDoubles(ARG0), 'check', IfThenElse(lowestCardGE(ARG0, 4), 'check', 'fold')))))\",\n",
      "\"IfThenElse(and_(highestCardLE(ARG0, 6), hasDoubles(ARG0)), 'check', IfThenElse(lowestCardGE(ARG0, 13), 'raise', IfThenElse(hasDoubles(ARG0), 'raise', IfThenElse(totalPotLE(ARG1, 11), 'fold', IfThenElse(lowestCardGE(ARG0, 9), 'fold', 'raise')))))\",\n",
      "\"IfThenElse(lowestCardLE(ARG0, 7), 'fold', IfThenElse(hasDoubles(ARG0), 'raise', IfThenElse(lowestCardLE(ARG0, 9), 'fold', IfThenElse(isSameSuit(ARG0), 'check', IfThenElse(lowestCardLE(ARG0, 11), 'fold', 'check')))))\",\n",
      "\"IfThenElse(lowestCardLE(ARG0, 9), 'fold', IfThenElse(hasDoubles(ARG0), 'raise', IfThenElse(lowestCardLE(ARG0, 12), 'check', IfThenElse(and_(isSameSuit(ARG0), highestCardGE(ARG0, 13)), 'fold', IfThenElse(totalPotLE(ARG1, 17), 'check', 'fold')))))\",\n",
      "\"IfThenElse(highestCardLE(ARG0, 6), 'fold', IfThenElse(lowestCardLE(ARG0, 2), 'fold', IfThenElse(hasDoubles(ARG0), 'raise', IfThenElse(lowestCardLE(ARG0, 10), 'fold', 'check'))))\",\n",
      "\"IfThenElse(lowestCardGE(ARG0, 12), 'raise', IfThenElse(lowestCardLE(ARG0, 9), 'fold', IfThenElse(hasDoubles(ARG0), 'raise', IfThenElse(totalPotGE(ARG1, 7), 'check', 'raise'))))\",\n",
      "\"IfThenElse(highestCardLE(ARG0, 2), 'raise', IfThenElse(lowestCardLE(ARG0, 11), 'fold', IfThenElse(hasDoubles(ARG0), 'raise', IfThenElse(totalPotGE(ARG1, 3), 'check', 'raise'))))\",\n",
      "\"IfThenElse(highestCardLE(ARG0, 4), 'fold', IfThenElse(hasDoubles(ARG0), 'raise', 'fold'))\",\n",
      "\"IfThenElse(and_(hasDoubles(ARG0), lowestCardGE(ARG0, 7)), 'raise', IfThenElse(lowestCardLE(ARG0, 8), 'fold', 'check'))\",\n",
      "\"IfThenElse(and_(hasDoubles(ARG0), highestCardGE(ARG0, 5)), 'raise', IfThenElse(lowestCardLE(ARG0, 9), 'fold', 'check'))\",\n",
      "\"IfThenElse(and_(totalPotGE(ARG1, 11), highestCardLE(ARG0, 10)), 'check', IfThenElse(hasDoubles(ARG0), 'raise', 'fold'))\",\n",
      "\"IfThenElse(and_(totalPotGE(ARG1, 19), and_(totalPotGE(ARG1, 12), and_(lowestCardLE(ARG0, 4), and_(totalPotGE(ARG1, 24), totalPotGE(ARG1, 28))))), 'fold', IfThenElse(lowestCardGE(ARG0, 12), 'raise', 'fold'))\",\n",
      "\"IfThenElse(and_(and_(totalPotGE(ARG1, 22), isSameSuit(ARG0)), and_(lowestCardGE(ARG0, 2), totalPotGE(ARG1, 28))), 'fold', IfThenElse(lowestCardGE(ARG0, 13), 'raise', 'fold'))\",\n",
      "\"IfThenElse(and_(hasDoubles(ARG0), lowestCardLE(ARG0, 9)), 'check', IfThenElse(hasDoubles(ARG0), 'raise', IfThenElse(lowestCardLE(ARG0, 9), 'fold', IfThenElse(totalPotGE(ARG1, 7), 'raise', IfThenElse(totalPotLE(ARG1, 2), 'fold', 'check')))))\",\n",
      "\"IfThenElse(and_(hasDoubles(ARG0), lowestCardLE(ARG0, 10)), 'fold', IfThenElse(hasDoubles(ARG0), 'raise', IfThenElse(lowestCardLE(ARG0, 11), 'fold', IfThenElse(totalPotGE(ARG1, 13), 'check', IfThenElse(totalPotLE(ARG1, 9), 'raise', 'check')))))\",\n",
      "\"IfThenElse(and_(hasDoubles(ARG0), lowestCardLE(ARG0, 9)), 'check', IfThenElse(hasDoubles(ARG0), 'raise', IfThenElse(lowestCardLE(ARG0, 9), 'fold', IfThenElse(totalPotGE(ARG1, 12), 'check', IfThenElse(totalPotLE(ARG1, 3), 'raise', 'check')))))\",\n",
      "\"IfThenElse(lowestCardLE(ARG0, 8), 'fold', IfThenElse(hasDoubles(ARG0), 'raise', IfThenElse(lowestCardGE(ARG0, 13), 'raise', 'check')))\",\n",
      "\"IfThenElse(lowestCardLE(ARG0, 9), 'fold', IfThenElse(hasDoubles(ARG0), 'raise', IfThenElse(and_(totalPotLE(ARG1, 4), totalPotLE(ARG1, 6)), 'raise', 'check')))\",\n",
      "\"IfThenElse(lowestCardLE(ARG0, 8), 'fold', IfThenElse(hasDoubles(ARG0), 'raise', IfThenElse(and_(totalPotLE(ARG1, 2), totalPotLE(ARG1, 1)), 'fold', 'check')))\",\n",
      "\"IfThenElse(lowestCardLE(ARG0, 10), 'fold', IfThenElse(lowestCardGE(ARG0, 13), 'raise', IfThenElse(totalPotGE(ARG1, 16), 'check', 'raise')))\",\n"
     ]
    }
   ],
   "source": [
    "for d in data:\n",
    "    print '\"' + d['EndTree'] + '\",'"
   ]
  }
 ],
 "metadata": {
  "anaconda-cloud": {},
  "kernelspec": {
   "display_name": "Python [conda env:py27]",
   "language": "python",
   "name": "conda-env-py27-py"
  },
  "language_info": {
   "codemirror_mode": {
    "name": "ipython",
    "version": 2
   },
   "file_extension": ".py",
   "mimetype": "text/x-python",
   "name": "python",
   "nbconvert_exporter": "python",
   "pygments_lexer": "ipython2",
   "version": "2.7.11"
  }
 },
 "nbformat": 4,
 "nbformat_minor": 1
}
