{
 "cells": [
  {
   "cell_type": "code",
   "execution_count": 29,
   "metadata": {
    "collapsed": false
   },
   "outputs": [],
   "source": [
    "import csv\n",
    "from deap import gp\n",
    "\n",
    "machine_alias = 'Abraxas'\n",
    "#filename = 'AAS Results/mapping-' + machine_alias + '.csv.txt' "
   ]
  },
  {
   "cell_type": "code",
   "execution_count": 60,
   "metadata": {
    "collapsed": true
   },
   "outputs": [],
   "source": [
    "class Individual:\n",
    "    def __init__(self, heuristic, fitness):\n",
    "        temp_heuristic = heuristic\n",
    "        if temp_heuristic[-1] == ',':\n",
    "            temp_heuristic = temp_heuristic[:-1]\n",
    "        if temp_heuristic[-1] == '\"' or temp_heuristic[-1] == \"'\":\n",
    "            temp_heuristic = temp_heuristic[:-1]\n",
    "        if temp_heuristic[0] == \"'\" or temp_heuristic[0] == '\"':\n",
    "            temp_heuristc = temp_heuristic[1:]\n",
    "        self.heuristic = temp_heuristic\n",
    "        \n",
    "        temp_fitness = fitness\n",
    "        if temp_fitness[0] == \"(\":\n",
    "            temp_fitness = temp_fitness[1:]\n",
    "        if temp_fitness[-2:] == \",)\":\n",
    "            temp_fitness = temp_fitness[:-2]\n",
    "        self.fitness = float(temp_fitness)\n",
    "    \n",
    "    def __lt__(self, ind):\n",
    "        return self.fitness < ind.fitness\n",
    "    \n",
    "    def __eq__(self, ind):\n",
    "        return self.fitness == ind.fitness\n",
    "    \n",
    "    def __str__(self):\n",
    "        return self.heuristic + ' | ' + str(self.fitness)"
   ]
  },
  {
   "cell_type": "code",
   "execution_count": 77,
   "metadata": {
    "collapsed": true
   },
   "outputs": [],
   "source": [
    "def extractDictFromCSV(filename):\n",
    "    data = []\n",
    "    data_order = []\n",
    "    data_dict_format = {}\n",
    "\n",
    "    with open(filename, 'rb') as csvfile:\n",
    "        spamreader = csv.reader(csvfile, delimiter=';', quotechar='|')\n",
    "        for x in spamreader.next():\n",
    "            temp = x\n",
    "            if x != '':\n",
    "                if x[0] == ' ':\n",
    "                    temp = x[1:]\n",
    "                data_order.append(temp)\n",
    "                data_dict_format[temp] = None\n",
    "\n",
    "        #print data_order\n",
    "\n",
    "        for row in spamreader:\n",
    "            data.append(dict(data_dict_format))\n",
    "            count = len(data_dict_format.keys())\n",
    "            #print \"=========\"\n",
    "            for x in row:\n",
    "                temp = x\n",
    "                if x != '':\n",
    "                    if x[0] == ' ':\n",
    "                        temp = x[1:]\n",
    "\n",
    "                    #print data_order[len(data_dict_format.keys()) - count]\n",
    "                    #print temp\n",
    "\n",
    "                    data[-1][data_order[len(data_dict_format.keys())- count]] = temp\n",
    "                    count -= 1\n",
    "    return data"
   ]
  },
  {
   "cell_type": "code",
   "execution_count": 72,
   "metadata": {
    "collapsed": true
   },
   "outputs": [],
   "source": [
    "def extractIndividualsFromData(data, ind_field=['EndTree'], fitness_field=['Fitness'], condition=[]):\n",
    "    population = []\n",
    "    for d in data:\n",
    "        flag = False\n",
    "        if condition != []:\n",
    "            for cond in condition:\n",
    "                if not cond[0](cond[2](d[cond[1]]), cond[3]):\n",
    "                    flag = True\n",
    "                    break\n",
    "        if flag:\n",
    "            continue\n",
    "        for k in range(0, len(ind_field)):\n",
    "            ind_key = ind_field[k]\n",
    "            fit_key = fitness_field[k]\n",
    "            population.append(Individual(d[ind_key], d[fit_key]))\n",
    "    \n",
    "    return population"
   ]
  },
  {
   "cell_type": "code",
   "execution_count": 34,
   "metadata": {
    "collapsed": true
   },
   "outputs": [],
   "source": [
    "def topK(population, k):\n",
    "    if k > len(population):\n",
    "        return population\n",
    "    return population[:k]"
   ]
  },
  {
   "cell_type": "code",
   "execution_count": 82,
   "metadata": {
    "collapsed": false
   },
   "outputs": [],
   "source": [
    "import operator\n",
    "\n",
    "aas_filename = 'AAS Results/mapping-' + machine_alias + '.csv.txt' \n",
    "aas_fields = [['EndTree'], ['Fitness']]\n",
    "aas_conditions = []\n",
    "\n",
    "gp_filename = 'GP Results/mapping-' + machine_alias + '.csv.txt'\n",
    "gp_fields = [['Top1', 'Top2', 'Top3'], ['Fitness-top1', 'Fitness-top2', 'Fitness-top3']]\n",
    "gp_conditions = [[operator.ge, 'Num Sims', int, 480000]]\n",
    "\n",
    "alg = 'aas'\n",
    "\n",
    "if alg == 'gp':\n",
    "    filename = gp_filename\n",
    "    fields = gp_fields\n",
    "    conditions = gp_conditions\n",
    "elif alg == 'aas':\n",
    "    filename = aas_filename\n",
    "    fields = aas_fields\n",
    "    conditions = aas_conditions\n",
    "else:\n",
    "    filename = None\n",
    "    fields = None\n",
    "    conditions = None"
   ]
  },
  {
   "cell_type": "code",
   "execution_count": 84,
   "metadata": {
    "collapsed": false
   },
   "outputs": [
    {
     "name": "stdout",
     "output_type": "stream",
     "text": [
      "\"IfThenElse(lowestCardGE(ARG0, 12), 'raise', IfThenElse(totalPotLE(ARG1, 24), 'fold', IfThenElse(hasDoubles(ARG0), 'check', IfThenElse(highestCardLE(ARG0, 13), 'fold', 'raise'))))\",\n",
      "\"IfThenElse(lowestCardGE(ARG0, 14), 'raise', IfThenElse(hasDoubles(ARG0), 'raise', IfThenElse(totalPotGE(ARG1, 9), 'check', IfThenElse(totalPotGE(ARG1, 7), 'raise', 'fold'))))\",\n",
      "\"IfThenElse(lowestCardGE(ARG0, 12), 'raise', IfThenElse(lowestCardLE(ARG0, 9), 'fold', IfThenElse(highestCardLE(ARG0, 13), 'check', IfThenElse(totalPotLE(ARG1, 16), 'fold', 'raise'))))\",\n",
      "\"IfThenElse(lowestCardGE(ARG0, 12), 'raise', IfThenElse(lowestCardGE(ARG0, 10), 'check', IfThenElse(and_(totalPotGE(ARG1, 12), and_(highestCardLE(ARG0, 5), isSameSuit(ARG0))), 'fold', IfThenElse(totalPotGE(ARG1, 9), 'check', 'fold'))))\",\n",
      "\"IfThenElse(highestCardLE(ARG0, 9), 'fold', IfThenElse(hasDoubles(ARG0), 'raise', IfThenElse(totalPotLE(ARG1, 1), 'fold', IfThenElse(totalPotGE(ARG1, 26), 'check', 'fold'))))\",\n",
      "\"IfThenElse(hasDoubles(ARG0), 'raise', IfThenElse(lowestCardGE(ARG0, 12), 'raise', IfThenElse(isSameSuit(ARG0), 'fold', IfThenElse(highestCardGE(ARG0, 14), 'check', 'fold'))))\",\n",
      "\"IfThenElse(hasDoubles(ARG0), 'raise', IfThenElse(highestCardLE(ARG0, 9), 'fold', IfThenElse(lowestCardLE(ARG0, 8), 'fold', IfThenElse(totalPotLE(ARG1, 21), 'fold', 'raise'))))\",\n",
      "\"IfThenElse(hasDoubles(ARG0), 'raise', IfThenElse(isSameSuit(ARG0), 'fold', IfThenElse(lowestCardLE(ARG0, 10), 'fold', IfThenElse(totalPotGE(ARG1, 10), 'check', 'raise'))))\",\n",
      "\"IfThenElse(highestCardLE(ARG0, 3), 'fold', IfThenElse(lowestCardGE(ARG0, 13), 'raise', IfThenElse(highestCardLE(ARG0, 11), 'fold', IfThenElse(isSameSuit(ARG0), 'check', 'fold'))))\",\n",
      "\"IfThenElse(hasDoubles(ARG0), 'raise', IfThenElse(totalPotLE(ARG1, 24), 'fold', IfThenElse(highestCardLE(ARG0, 8), 'check', IfThenElse(lowestCardGE(ARG0, 8), 'raise', 'fold'))))\",\n"
     ]
    }
   ],
   "source": [
    "csv_data = extractDictFromCSV(filename)\n",
    "parsed_data = extractIndividualsFromData(csv_data, ind_field=fields[0], fitness_field=fields[1], condition=conditions)\n",
    "parsed_data = sorted(parsed_data, reverse=True)\n",
    "\n",
    "top = topK(parsed_data, 10)\n",
    "\n",
    "#for d in top:\n",
    "#    print d\n",
    "for d in top:\n",
    "    print '\"' + d.heuristic + '\",'"
   ]
  }
 ],
 "metadata": {
  "anaconda-cloud": {},
  "kernelspec": {
   "display_name": "Python [conda env:py27]",
   "language": "python",
   "name": "conda-env-py27-py"
  },
  "language_info": {
   "codemirror_mode": {
    "name": "ipython",
    "version": 2
   },
   "file_extension": ".py",
   "mimetype": "text/x-python",
   "name": "python",
   "nbconvert_exporter": "python",
   "pygments_lexer": "ipython2",
   "version": "2.7.11"
  }
 },
 "nbformat": 4,
 "nbformat_minor": 1
}
