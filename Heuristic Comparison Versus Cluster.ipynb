{
 "cells": [
  {
   "cell_type": "code",
   "execution_count": 1,
   "metadata": {},
   "outputs": [],
   "source": [
    "import pyximport; pyximport.install()\n",
    "from csvparser import *\n",
    "from gpcode import *\n",
    "\n",
    "from functools import partial"
   ]
  },
  {
   "cell_type": "code",
   "execution_count": 2,
   "metadata": {},
   "outputs": [],
   "source": [
    "csv_filename = \"Distance Results/Most-distant-\" + machine_alias + \"-2018-02-05 02:14:03.642540.csv.txt\"\n",
    "\n",
    "fields = [['Heuristic'], ['Fitness']]\n",
    "conditions = []\n",
    "\n",
    "csv_data = extractDictFromCSV(csv_filename)\n",
    "parsed_data = extractIndividualsFromAASData(csv_data, ind_field=fields[0], fitness_field=fields[1], condition=conditions)\n",
    "parsed_data = sorted(parsed_data, reverse=True)"
   ]
  },
  {
   "cell_type": "code",
   "execution_count": 7,
   "metadata": {},
   "outputs": [
    {
     "name": "stdout",
     "output_type": "stream",
     "text": [
      "IfThenElse(and_(lowestCardLE(ARG0, 7), highestCardLE(ARG0, 11)), 'check', IfThenElse(totalPotLE(ARG1, 2), 'raise', IfThenElse(hasDoubles(ARG0), 'raise', 'check'))) | 0 | 0.777696875\n",
      "IfThenElse(and_(totalPotLE(ARG1, 7), totalPotGE(ARG1, 3)), 'check', IfThenElse(highestCardGE(ARG0, 12), 'raise', IfThenElse(hasDoubles(ARG0), 'raise', IfThenElse(lowestCardGE(ARG0, 10), 'raise', IfThenElse(isSameSuit(ARG0), 'check', IfThenElse(totalPotGE(ARG1, 17), 'raise', 'check')))))) | 0 | 0.744421875\n",
      "IfThenElse(and_(lowestCardLE(ARG0, 7), highestCardLE(ARG0, 11)), 'check', IfThenElse(totalPotLE(ARG1, 2), 'raise', IfThenElse(hasDoubles(ARG0), 'raise', IfThenElse(totalPotGE(ARG1, 6), 'fold', 'check')))) | 0 | 0.743465625\n",
      "IfThenElse(hasDoubles(ARG0), 'raise', IfThenElse(lowestCardGE(ARG0, 13), 'raise', IfThenElse(highestCardLE(ARG0, 11), 'check', IfThenElse(totalPotGE(ARG1, 6), 'raise', IfThenElse(totalPotLE(ARG1, 2), 'raise', 'check'))))) | 0 | 0.691153125\n",
      "IfThenElse(hasDoubles(ARG0), 'raise', IfThenElse(highestCardLE(ARG0, 11), 'check', IfThenElse(totalPotLE(ARG1, 2), 'raise', 'check'))) | 0 | 0.66476875\n",
      "IfThenElse(and_(hasDoubles(ARG0), highestCardGE(ARG0, 8)), 'raise', IfThenElse(highestCardLE(ARG0, 11), 'check', IfThenElse(and_(totalPotGE(ARG1, 25), isSameSuit(ARG0)), 'fold', IfThenElse(totalPotGE(ARG1, 10), 'raise', IfThenElse(totalPotGE(ARG1, 2), 'check', 'raise'))))) | 0 | 0.658340625\n",
      "IfThenElse(and_(hasDoubles(ARG0), lowestCardGE(ARG0, 7)), 'raise', IfThenElse(lowestCardGE(ARG0, 10), 'raise', IfThenElse(totalPotGE(ARG1, 10), 'fold', 'check'))) | 0 | -0.17713125\n",
      "IfThenElse(lowestCardGE(ARG0, 10), 'raise', IfThenElse(totalPotGE(ARG1, 5), 'raise', 'check')) | 0 | -0.2655875\n"
     ]
    }
   ],
   "source": [
    "opponent_population = []\n",
    "\n",
    "for p in parsed_data:\n",
    "    opponent_population.append(gp.PrimitiveTree.from_string(p.heuristic, pset))\n",
    "    print p"
   ]
  },
  {
   "cell_type": "code",
   "execution_count": 4,
   "metadata": {},
   "outputs": [],
   "source": [
    "def makeHeuristicPopulation(heuristic_list_filename):\n",
    "    population = []\n",
    "    heuristic_file = open(heuristic_list_filename, 'r')\n",
    "    \n",
    "    for line in heuristic_file:\n",
    "        if len(line) > 3:\n",
    "            #population.append(gp.PrimitiveTree.from_string(line, pset))\n",
    "            population.append(line)\n",
    "    \n",
    "    heuristic_file.close()\n",
    "    \n",
    "    return population"
   ]
  },
  {
   "cell_type": "code",
   "execution_count": 5,
   "metadata": {},
   "outputs": [],
   "source": [
    "def findFitnessMatchUp(population, opponent_heuristic, n):\n",
    "    pop = population\n",
    "    \n",
    "    pool = mp.Pool(mp.cpu_count())\n",
    "    \n",
    "    p2 = HeuristicAI()\n",
    "    p2.setHeuristic(marshal.dumps(toolbox.compile(opponent_heuristic).func_code))\n",
    "    \n",
    "    temp = []\n",
    "    for i in range(0, len(pop)):\n",
    "        temp.append(HeuristicAI())\n",
    "        temp[i].setHeuristic(marshal.dumps(toolbox.compile(pop[i]).func_code))\n",
    "    fitness_list = pool.map(partial(toolbox.evaluate, opponent=p2), temp)\n",
    "    pool.terminate()\n",
    "    \n",
    "    for i in range(0, len(fitness_list)):\n",
    "        pop[i].fitness = fitness_list[i]\n",
    "    \n",
    "    return pop"
   ]
  },
  {
   "cell_type": "code",
   "execution_count": 6,
   "metadata": {},
   "outputs": [],
   "source": [
    "num_sims = 80000 * 10\n",
    "\n",
    "heuristic_list_filename = \"Comparison Results/list_of_heuristics.txt\"\n",
    "population = makeHeuristicPopulation(heuristic_list_filename)\n",
    "\n",
    "temp = []\n",
    "for i in range(0, len(population)):\n",
    "    heuristic = simplifyTree(simplifyByRemovingStatements(gp.PrimitiveTree.from_string(population[i], pset), all_hands), all_hands)\n",
    "    if not isThereCopyOfIndividual(temp, heuristic):\n",
    "        temp.append(heuristic)\n",
    "\n",
    "population = temp\n",
    "\n",
    "counter = 0\n",
    "for opponent in opponent_population:\n",
    "    toolbox.register(\"evaluate\", evaluateMatchUp, n=num_sims)\n",
    "\n",
    "    csv_filename = \"Distance Results/Versus-\" + str(counter) + \"-\" + machine_alias + \".csv.txt\"\n",
    "    createLogFile(csv_filename, \"Num Sims; Heuristic; Complexity; Fitness;\\n\")\n",
    "\n",
    "    population = findFitnessMatchUp(population, opponent, n=num_sims)\n",
    "    for p in population:\n",
    "        logToFile(csv_filename, str(num_sims) + \"; \" + str(p) + \"; \" + str(findComplexity(p)) + \"; \" + str(p.fitness[0]) + \";\\n\")\n",
    "\n",
    "    counter += 1"
   ]
  }
 ],
 "metadata": {
  "kernelspec": {
   "display_name": "Python 2.X(Fernando)",
   "language": "python",
   "name": "python2.fms"
  },
  "language_info": {
   "codemirror_mode": {
    "name": "ipython",
    "version": 2
   },
   "file_extension": ".py",
   "mimetype": "text/x-python",
   "name": "python",
   "nbconvert_exporter": "python",
   "pygments_lexer": "ipython2",
   "version": "2.7.14"
  }
 },
 "nbformat": 4,
 "nbformat_minor": 2
}
