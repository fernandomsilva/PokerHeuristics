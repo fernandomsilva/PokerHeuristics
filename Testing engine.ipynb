{
 "cells": [
  {
   "cell_type": "code",
   "execution_count": 1,
   "metadata": {},
   "outputs": [],
   "source": [
    "import pyximport; pyximport.install()\n",
    "from gpcode import *\n",
    "\n",
    "import marshal"
   ]
  },
  {
   "cell_type": "code",
   "execution_count": 25,
   "metadata": {},
   "outputs": [
    {
     "name": "stdout",
     "output_type": "stream",
     "text": [
      "[[<deap.gp.Primitive object at 0x7f6001cf1788>, <deap.gp.Primitive object at 0x7f6001cf1680>, <deap.gp.Terminal object at 0x7f6001976690>, <deap.gp.Terminal object at 0x7f6001976500>, <deap.gp.Terminal object at 0x7f60019765f0>, <deap.gp.Terminal object at 0x7f6001976f00>, <deap.gp.Terminal object at 0x7f6001976fa0>], [<deap.gp.Primitive object at 0x7f6001cf1788>, <deap.gp.Primitive object at 0x7f6001cf1680>, <deap.gp.Terminal object at 0x7f6001976690>, <deap.gp.Terminal object at 0x7f6001976500>, <deap.gp.Terminal object at 0x7f60019765f0>, <deap.gp.Terminal object at 0x7f6001730320>, <deap.gp.Terminal object at 0x7f6001730280>]]\n"
     ]
    }
   ],
   "source": [
    "ind_str = \"IfThenElse(handValueGE(ARG0, 2, ARG2), 'raise', 'check')\"\n",
    "ind_str2 = \"IfThenElse(totalPotGE(ARG1, 3), 'fold', 'check')\"\n",
    "ind = gp.PrimitiveTree.from_string(ind_str, pset)\n",
    "ind2 = gp.PrimitiveTree.from_string(ind_str, pset)\n",
    "\n",
    "print toolbox.mate(ind, ind2)\n",
    "#temp = HeuristicAI()\n",
    "#temp.setHeuristic(marshal.dumps(toolbox.compile(ind).func_code))\n",
    "\n",
    "#print evaluate(temp, n=80000)"
   ]
  },
  {
   "cell_type": "code",
   "execution_count": 2,
   "metadata": {},
   "outputs": [
    {
     "name": "stdout",
     "output_type": "stream",
     "text": [
      "done loading\n"
     ]
    }
   ],
   "source": [
    "input_file = \"Frozen States/3-River/frozen_games.pickle\"\n",
    "river_gameloops = pickle.load(open(input_file, \"rb\"))\n",
    "print \"done loading\""
   ]
  },
  {
   "cell_type": "code",
   "execution_count": 10,
   "metadata": {},
   "outputs": [
    {
     "name": "stdout",
     "output_type": "stream",
     "text": [
      "done loading\n"
     ]
    }
   ],
   "source": [
    "input_file = \"Frozen States/2-Turn/frozen_games.pickle\"\n",
    "turn_gameloops = pickle.load(open(input_file, \"rb\"))\n",
    "print \"done loading\""
   ]
  },
  {
   "cell_type": "code",
   "execution_count": 11,
   "metadata": {},
   "outputs": [
    {
     "name": "stdout",
     "output_type": "stream",
     "text": [
      "done loading\n"
     ]
    }
   ],
   "source": [
    "input_file = \"Frozen States/1-Flop/frozen_games.pickle\"\n",
    "flop_gameloops = pickle.load(open(input_file, \"rb\"))\n",
    "print \"done loading\""
   ]
  },
  {
   "cell_type": "code",
   "execution_count": 9,
   "metadata": {},
   "outputs": [
    {
     "name": "stdout",
     "output_type": "stream",
     "text": [
      "(-0.38675000000000637,)\n"
     ]
    }
   ],
   "source": [
    "test = CFRAI()\n",
    "print evaluateFreezeGameState(test, river_gameloops, n=80000, street=3, TOTAL_PLAYER_POT=1000)"
   ]
  },
  {
   "cell_type": "code",
   "execution_count": 12,
   "metadata": {},
   "outputs": [
    {
     "name": "stdout",
     "output_type": "stream",
     "text": [
      "(-0.2652500000000373,)\n"
     ]
    }
   ],
   "source": [
    "test = CFRAI()\n",
    "print evaluateFreezeGameState(test, turn_gameloops, n=80000, street=2, TOTAL_PLAYER_POT=1000)"
   ]
  },
  {
   "cell_type": "code",
   "execution_count": 13,
   "metadata": {},
   "outputs": [
    {
     "name": "stdout",
     "output_type": "stream",
     "text": [
      "(0.10024999999995998,)\n"
     ]
    }
   ],
   "source": [
    "test = CFRAI()\n",
    "print evaluateFreezeGameState(test, flop_gameloops, n=80000, street=2, TOTAL_PLAYER_POT=1000)"
   ]
  },
  {
   "cell_type": "code",
   "execution_count": 4,
   "metadata": {},
   "outputs": [
    {
     "name": "stdout",
     "output_type": "stream",
     "text": [
      "Hand: 3S  6H\n",
      "Pot: 880\n",
      "Hand: 2C  JH\n",
      "Pot: 880\n",
      "\n"
     ]
    }
   ],
   "source": [
    "gl = gameloops[0]\n",
    "print gl"
   ]
  },
  {
   "cell_type": "code",
   "execution_count": 4,
   "metadata": {},
   "outputs": [
    {
     "name": "stdout",
     "output_type": "stream",
     "text": [
      "Hand: 3S  6H\n",
      "Pot: 880\n",
      "Hand: 2C  JH\n",
      "Pot: 880\n",
      "\n"
     ]
    }
   ],
   "source": [
    "gl = gameloops[0]\n",
    "print gl"
   ]
  },
  {
   "cell_type": "code",
   "execution_count": 26,
   "metadata": {},
   "outputs": [
    {
     "name": "stdout",
     "output_type": "stream",
     "text": [
      "Hand: KS  JD\n",
      "Pot: 960\n",
      "Hand: 7D  QH\n",
      "Pot: 960\n",
      "\n",
      "0\n",
      "0\n",
      "0\n",
      "['3D', '2S', '2D']\n",
      "80\n",
      "2\n",
      "0\n",
      "40\n",
      "rc/\n",
      "\n",
      "\n",
      "\n",
      "Hand: 10S  3D\n",
      "Pot: 960\n",
      "Hand: 8C  9H\n",
      "Pot: 960\n",
      "\n",
      "1\n",
      "1\n",
      "0\n",
      "['7D', 'KH', '8D']\n",
      "80\n",
      "2\n",
      "1\n",
      "40\n",
      "crc/\n",
      "\n",
      "\n",
      "\n",
      "=============================\n",
      "=============================\n",
      "=============================\n",
      "Hand: KS  JD\n",
      "Pot: 960\n",
      "Hand: 7D  QH\n",
      "Pot: 960\n",
      "\n",
      "0\n",
      "0\n",
      "0\n",
      "['3D', '2S', '2D']\n",
      "80\n",
      "2\n",
      "0\n",
      "40\n",
      "rc/\n",
      "\n",
      "\n",
      "\n",
      "Hand: 10S  3D\n",
      "Pot: 960\n",
      "Hand: 8C  9H\n",
      "Pot: 960\n",
      "\n",
      "1\n",
      "1\n",
      "0\n",
      "['7D', 'KH', '8D']\n",
      "80\n",
      "2\n",
      "1\n",
      "40\n",
      "crc/\n",
      "\n",
      "\n",
      "\n"
     ]
    }
   ],
   "source": [
    "import pickle\n",
    "\n",
    "frozen_states = []\n",
    "frozen_states.append(GameHandler(2, [CFRAI(), CFRAI()], 1000, 10))\n",
    "frozen_states.append(GameHandler(2, [CFRAI(), CFRAI()], 1000, 10))\n",
    "\n",
    "for i in range(0, 2):\n",
    "    gh = frozen_states[i]\n",
    "    if (i % 2) == 0:\n",
    "        gh.game.setup()\n",
    "    gh.run_gameloop_upTo(cutoff_street=1)\n",
    "    gh.agents = []\n",
    "\n",
    "    gloop = gh.game\n",
    "    print gloop\n",
    "    print gloop.current_player\n",
    "    print gloop.button\n",
    "    print gloop.number_of_raises\n",
    "    #print gloop.deck\n",
    "    print [str(c) for c in gloop.board]\n",
    "    print gloop.pot\n",
    "    print gloop.active_players\n",
    "    print gloop.highest_bidder\n",
    "    print gloop.current_bid\n",
    "    print gloop.action_history\n",
    "    \n",
    "    print \"\\n\\n\"\n",
    "\n",
    "print \"=============================\"\n",
    "print \"=============================\"\n",
    "print \"=============================\"\n",
    "\n",
    "#frozen_states = []\n",
    "pickle.dump(frozen_states, open(\"frozen_states.p\", \"wb\"))\n",
    "#frozen_states.append()\n",
    "\n",
    "frozen_states = pickle.load(open(\"frozen_states.p\", \"rb\"))\n",
    "\n",
    "for i in range(0, 2):\n",
    "    gh2 = frozen_states[i]\n",
    "    gloop = gh2.game\n",
    "    print gloop\n",
    "    print gloop.current_player\n",
    "    print gloop.button\n",
    "    print gloop.number_of_raises\n",
    "    #print gloop.deck\n",
    "    print [str(c) for c in gloop.board]\n",
    "    print gloop.pot\n",
    "    print gloop.active_players\n",
    "    print gloop.highest_bidder\n",
    "    print gloop.current_bid\n",
    "    print gloop.action_history\n",
    "\n",
    "    print \"\\n\\n\"\n"
   ]
  },
  {
   "cell_type": "code",
   "execution_count": 4,
   "metadata": {},
   "outputs": [
    {
     "name": "stdout",
     "output_type": "stream",
     "text": [
      "(34.965999999999894,)\n"
     ]
    }
   ],
   "source": [
    "#test = RandomAI()\n",
    "#print evaluate(test, 80000, street=0)\n",
    "#test = WeightedRandomAI()\n",
    "#print evaluate(test, 80000, street=0)\n",
    "#test = WeightedRandomAI()\n",
    "ind_str = \"IfThenElse(handValueGE(ARG0, 2, ARG2), 'raise', 'check')\"\n",
    "ind_str2 = \"IfThenElse(totalPotGE(ARG1, 3), 'fold', 'check')\"\n",
    "\n",
    "ind = gp.PrimitiveTree.from_string(ind_str, pset)\n",
    "\n",
    "temp = HeuristicAI()\n",
    "temp.setHeuristic(marshal.dumps(toolbox.compile(ind).func_code))\n",
    "\n",
    "print evaluateFullGame(temp, 80000)"
   ]
  }
 ],
 "metadata": {
  "kernelspec": {
   "display_name": "Python 2.X(Fernando)",
   "language": "python",
   "name": "python2.fms"
  },
  "language_info": {
   "codemirror_mode": {
    "name": "ipython",
    "version": 2
   },
   "file_extension": ".py",
   "mimetype": "text/x-python",
   "name": "python",
   "nbconvert_exporter": "python",
   "pygments_lexer": "ipython2",
   "version": "2.7.14"
  }
 },
 "nbformat": 4,
 "nbformat_minor": 2
}
