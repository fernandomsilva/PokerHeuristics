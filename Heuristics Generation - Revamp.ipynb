{
 "cells": [
  {
   "cell_type": "code",
   "execution_count": 1,
   "metadata": {
    "collapsed": true
   },
   "outputs": [],
   "source": [
    "import pyximport; pyximport.install()\n",
    "from gpcode import *\n",
    "\n",
    "import time, datetime, os\n",
    "\n",
    "#DEFAULT_TREE_DEPTH = 2 ### Check gpcode.pyx\n",
    "#machine_alias = \"Enchilada\""
   ]
  },
  {
   "cell_type": "code",
   "execution_count": null,
   "metadata": {
    "collapsed": true
   },
   "outputs": [],
   "source": [
    "num_sims = 80000 * 5\n",
    "#toolbox.register(\"evaluate\", evaluate, n=num_sims)\n",
    "\n",
    "#num_sims = 80000\n",
    "#gameloops_input_file = \"Frozen States/3-River/frozen_games.pickle\"\n",
    "#frozen_gameloops = pickle.load(open(gameloops_input_file, \"rb\"))\n",
    "#print \"done loading frozen gameloops\"\n",
    "\n",
    "toolbox.register(\"evaluate\", evaluateInSteps, n=num_sims, street=3)\n",
    "\n",
    "filename = \"GP Results/gen-output-\" + machine_alias + \"-\" + str(datetime.datetime.now()) +  \".txt\"\n",
    "\n",
    "ngen=100\n",
    "k=10\n",
    "mut_prob = 0.3\n",
    "children_mut_prob = 0.1\n",
    "pop = toolbox.population(n=200)\n",
    "#pop = toolbox.population(n=199)\n",
    "#pop.append(gp.PrimitiveTree.from_string(\"IfThenElse(hasDoubles(ARG0), 'raise', IfThenElse(highestCardLE(ARG0, 11), 'check', IfThenElse(totalPotLE(ARG1, 2), 'raise', 'check')))\", pset))\n",
    "\n",
    "start = time.time()\n",
    "createLogFile(filename, \"Gen 0 Start\\n\")\n",
    "\n",
    "pop = gen0(pop)\n",
    "\n",
    "logToFile(filename, \"Gen 0 End\\nEllapsed Time: \" + str(time.time() - start) + \"\\n\")\n",
    "\n",
    "for i in range(0, ngen):\n",
    "    start = time.time()\n",
    "    logToFile(filename, \"Gen \" + str(i+1) + \"\\n\")\n",
    "\n",
    "    pop = generation(pop, mut_prob, children_mut_prob, k)\n",
    "\n",
    "    top = toolbox.select(pop, 3)\n",
    "    logToFile(filename, \"Fitness: \" + str(top[0].fitness) + \"\\n\")\n",
    "    logToFile(filename, \"Top: \" + str(top[0]) + \"\\n\")\n",
    "    logToFile(filename, \"Fitness: \" + str(top[1].fitness) + \"\\n\")\n",
    "    logToFile(filename, \"Top: \" + str(top[1]) + \"\\n\")\n",
    "    logToFile(filename, \"Fitnees: \" + str(top[2].fitness) + \"\\n\")\n",
    "    logToFile(filename, \"Top: \" + str(top[2]) + \"\\n\")\n",
    "\n",
    "    logToFile(filename, \"Ellapsed Time: \" + str(time.time() - start) + \"\\n\")\n",
    "\n",
    "logToFile(filename, \"==================================\\n\")\n",
    "logToFile(filename, \"==================================\\n\")\n",
    "logToFile(filename, \"==================================\\n\")\n",
    "print(\"==================================\")\n",
    "print(\"==================================\")\n",
    "print(\"==================================\")\n",
    "\n",
    "best = toolbox.select(pop, 3)\n",
    "for b in best:\n",
    "    logToFile(filename, str(b) + \"\\n\")\n",
    "    logToFile(filename, str(b.fitness) + \"\\n\")\n",
    "\n",
    "csv_filename = \"GP Results/mapping-\" + machine_alias + \".csv.txt\"\n",
    "if not os.path.isfile(csv_filename):\n",
    "    createLogFile(csv_filename, \"Tree Depth; Population; Num Generations; Num Sims; Top1; Fitness-top1; Top2; Fitness-top2; Top3; Fitness-top3; File;\\n\")\n",
    "\n",
    "logToFile(csv_filename, str(returnTreeDepth(best[0])) + \"; \" + str(len(pop)) + \"; \" + str(ngen) + \"; \" + str(num_sims) + \"; \" + str(best[0]) + \"; \" + str(best[0].fitness) + \"; \"  + str(best[1]) + \"; \" + str(best[1].fitness) + \"; \" + str(best[2]) + \"; \" + str(best[2].fitness) + \"; \" + str(filename) + \";\\n\")\n"
   ]
  }
 ],
 "metadata": {
  "kernelspec": {
   "display_name": "Python 2.7",
   "language": "python",
   "name": "python2"
  },
  "language_info": {
   "codemirror_mode": {
    "name": "ipython",
    "version": 2
   },
   "file_extension": ".py",
   "mimetype": "text/x-python",
   "name": "python",
   "nbconvert_exporter": "python",
   "pygments_lexer": "ipython2",
   "version": "2.7.11"
  }
 },
 "nbformat": 4,
 "nbformat_minor": 1
}
