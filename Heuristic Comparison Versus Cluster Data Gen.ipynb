{
 "cells": [
  {
   "cell_type": "code",
   "execution_count": 6,
   "metadata": {},
   "outputs": [],
   "source": [
    "import pyximport; pyximport.install()\n",
    "from csvparser import *\n",
    "from gpcode import *"
   ]
  },
  {
   "cell_type": "code",
   "execution_count": 7,
   "metadata": {},
   "outputs": [],
   "source": [
    "def readVersusData(csv_filename):\n",
    "    #csv_filename = \"Distance Results/Versus-0-\" + machine_alias + \".csv.txt\"\n",
    "\n",
    "    fields = [['Heuristic'], ['Fitness']]\n",
    "    conditions = []\n",
    "\n",
    "    csv_data = extractDictFromCSV(csv_filename)\n",
    "    parsed_data = extractIndividualsFromAASData(csv_data, ind_field=fields[0], fitness_field=fields[1], condition=conditions)\n",
    "    parsed_data = sorted(parsed_data, reverse=True)\n",
    "    \n",
    "    return parsed_data"
   ]
  },
  {
   "cell_type": "code",
   "execution_count": 47,
   "metadata": {},
   "outputs": [],
   "source": [
    "files = [\n",
    "    \"Distance Results/Versus-0-\" + machine_alias + \".csv.txt\",\n",
    "    \"Distance Results/Versus-1-\" + machine_alias + \".csv.txt\",\n",
    "    \"Distance Results/Versus-2-\" + machine_alias + \".csv.txt\",\n",
    "    \"Distance Results/Versus-3-\" + machine_alias + \".csv.txt\",\n",
    "    \"Distance Results/Versus-4-\" + machine_alias + \".csv.txt\",\n",
    "    \"Distance Results/Versus-5-\" + machine_alias + \".csv.txt\",\n",
    "    \"Distance Results/Versus-6-\" + machine_alias + \".csv.txt\",\n",
    "    \"Distance Results/Versus-7-\" + machine_alias + \".csv.txt\",\n",
    "]\n",
    "\n",
    "results = []\n",
    "\n",
    "for f in files:\n",
    "    results.append(readVersusData(f))"
   ]
  },
  {
   "cell_type": "code",
   "execution_count": 48,
   "metadata": {},
   "outputs": [],
   "source": [
    "result_dict = {}\n",
    "\n",
    "for data in results:\n",
    "    for ind in data:\n",
    "        key = ind.heuristic\n",
    "        if key not in result_dict:\n",
    "            result_dict[key] = 0.0\n",
    "        \n",
    "        result_dict[key] += ind.fitness\n",
    "\n",
    "for key in result_dict:\n",
    "    result_dict[key] = result_dict[key] / len(files)"
   ]
  },
  {
   "cell_type": "code",
   "execution_count": 49,
   "metadata": {},
   "outputs": [],
   "source": [
    "csv_filename = \"Distance Results/cluster-mapping-\" + machine_alias + \".csv.txt\"\n",
    "createLogFile(csv_filename, \"Heuristic; Complexity; Fitness;\\n\")\n",
    "\n",
    "for k in result_dict:\n",
    "    complexity = findComplexity(gp.PrimitiveTree.from_string(k, pset))\n",
    "    fitness = result_dict[k]\n",
    "    logToFile(csv_filename, str(k) + \"; \" + str(complexity) + \"; \" + str(fitness) + \";\\n\")\n"
   ]
  }
 ],
 "metadata": {
  "kernelspec": {
   "display_name": "Python 2.X(Fernando)",
   "language": "python",
   "name": "python2.fms"
  },
  "language_info": {
   "codemirror_mode": {
    "name": "ipython",
    "version": 2
   },
   "file_extension": ".py",
   "mimetype": "text/x-python",
   "name": "python",
   "nbconvert_exporter": "python",
   "pygments_lexer": "ipython2",
   "version": "2.7.14"
  }
 },
 "nbformat": 4,
 "nbformat_minor": 2
}
