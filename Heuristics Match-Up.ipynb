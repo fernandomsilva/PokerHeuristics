{
 "cells": [
  {
   "cell_type": "code",
   "execution_count": 1,
   "metadata": {},
   "outputs": [],
   "source": [
    "import pyximport; pyximport.install()\n",
    "from gpcode import *\n",
    "from csvparser import *\n",
    "\n",
    "from functools import partial\n",
    "import operator"
   ]
  },
  {
   "cell_type": "code",
   "execution_count": 2,
   "metadata": {},
   "outputs": [],
   "source": [
    "#def readPopulationFromFile(heuristic_list_filename):\n",
    "#    population = []\n",
    "#    heuristic_file = open(heuristic_list_filename, 'r')\n",
    "#    \n",
    "#    for line in heuristic_file:\n",
    "#        if len(line) > 3:\n",
    "#            population.append(gp.PrimitiveTree.from_string(line, pset))\n",
    "#    \n",
    "#    heuristic_file.close()\n",
    "#    \n",
    "#    return population\n",
    "csv_filename = \"Comparison Results/mapping-\" + machine_alias + \".csv.txt\"\n",
    "\n",
    "fields = [['Heuristic'], ['Complexity'], ['Fitness']]\n",
    "conditions = [[operator.ge, 'Fitness', float, -0.25]]\n",
    "\n",
    "csv_data = extractDictFromCSV(csv_filename)\n",
    "parsed_data = extractIndividualsFromData(csv_data, ind_field=fields[0], complexity_field= fields[1], fitness_field=fields[2], condition=conditions)\n",
    "parsed_data = sorted(parsed_data, reverse=True)"
   ]
  },
  {
   "cell_type": "code",
   "execution_count": 3,
   "metadata": {},
   "outputs": [],
   "source": [
    "def createPopulationFromData(data):\n",
    "    population = []\n",
    "    for d in data:\n",
    "        population.append(gp.PrimitiveTree.from_string(d.heuristic, pset))\n",
    "    \n",
    "    return population"
   ]
  },
  {
   "cell_type": "code",
   "execution_count": 4,
   "metadata": {},
   "outputs": [],
   "source": [
    "def playMatchUp(p1_heuristic, p2_heuristic, n):\n",
    "    p1 = HeuristicAI()\n",
    "    p1.setHeuristic(marshal.dumps(toolbox.compile(p1_heuristic).func_code))\n",
    "    p2 = HeuristicAI()\n",
    "    p2.setHeuristic(marshal.dumps(toolbox.compile(p2_heuristic).func_code))\n",
    "\n",
    "    return evaluateMatchUp(p1, p2, n)"
   ]
  },
  {
   "cell_type": "code",
   "execution_count": 5,
   "metadata": {},
   "outputs": [],
   "source": [
    "def findFitnessMatchUp(population, opponent_heuristic, n):\n",
    "    pop = population\n",
    "    \n",
    "    pool = mp.Pool(mp.cpu_count())\n",
    "    \n",
    "    p2 = HeuristicAI()\n",
    "    p2.setHeuristic(marshal.dumps(toolbox.compile(opponent_heuristic).func_code))\n",
    "    \n",
    "    temp = []\n",
    "    for i in range(0, len(pop)):\n",
    "        temp.append(HeuristicAI())\n",
    "        temp[i].setHeuristic(marshal.dumps(toolbox.compile(pop[i]).func_code))\n",
    "    fitness_list = pool.map(partial(toolbox.evaluate, opponent=p2), temp)\n",
    "    pool.terminate()\n",
    "    \n",
    "    for i in range(0, len(fitness_list)):\n",
    "        pop[i].fitness = fitness_list[i]\n",
    "    \n",
    "    return pop"
   ]
  },
  {
   "cell_type": "code",
   "execution_count": 6,
   "metadata": {},
   "outputs": [],
   "source": [
    "num_sims = 80000 * 10\n",
    "\n",
    "#heuristic_list_filename = \"Comparison Results/list_of_heuristics.txt\"\n",
    "\n",
    "total_population = createPopulationFromData(parsed_data)\n",
    "\n",
    "csv_filename = \"MatchUp Results/mapping-\" + machine_alias + \"-\" + str(datetime.datetime.now()) + \".csv.txt\"\n",
    "if not os.path.isfile(csv_filename):\n",
    "    createLogFile(csv_filename, \"Num Sims; Player1; Fitness-p1; Player2; Fitness-p2;\\n\")\n",
    "\n",
    "toolbox.register(\"evaluate\", evaluateMatchUp, n=num_sims)\n",
    "    \n",
    "for i in range(len(total_population)-1):\n",
    "    opponent = total_population[i]\n",
    "    temp_pop = total_population[i+1:]\n",
    "    temp_pop = findFitnessMatchUp(temp_pop, opponent, n=num_sims)\n",
    "    for p in temp_pop:\n",
    "        logToFile(csv_filename, str(num_sims) + \"; \" + str(p) + \"; \" + str(p.fitness[0]) + \"; \"  + str(opponent) + \"; \" + str(p.fitness[0] * -1) + \";\\n\")\n"
   ]
  },
  {
   "cell_type": "code",
   "execution_count": null,
   "metadata": {},
   "outputs": [],
   "source": []
  }
 ],
 "metadata": {
  "kernelspec": {
   "display_name": "Python 2.X(Fernando)",
   "language": "python",
   "name": "python2.fms"
  },
  "language_info": {
   "codemirror_mode": {
    "name": "ipython",
    "version": 2
   },
   "file_extension": ".py",
   "mimetype": "text/x-python",
   "name": "python",
   "nbconvert_exporter": "python",
   "pygments_lexer": "ipython2",
   "version": "2.7.14"
  }
 },
 "nbformat": 4,
 "nbformat_minor": 2
}
