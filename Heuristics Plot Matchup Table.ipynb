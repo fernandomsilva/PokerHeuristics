{
 "cells": [
  {
   "cell_type": "code",
   "execution_count": 63,
   "metadata": {},
   "outputs": [],
   "source": [
    "import pyximport; pyximport.install()\n",
    "from csvparser import *\n",
    "from gpcode import *"
   ]
  },
  {
   "cell_type": "code",
   "execution_count": 64,
   "metadata": {},
   "outputs": [],
   "source": [
    "csv_filename = \"Comparison Results/mapping-\" + machine_alias + \".csv.txt\"\n",
    "\n",
    "fields = [['Heuristic'], ['Complexity'], ['Fitness']]\n",
    "conditions = []\n",
    "\n",
    "csv_data = extractDictFromCSV(csv_filename)\n",
    "parsed_data = extractIndividualsFromData(csv_data, ind_field=fields[0], complexity_field= fields[1], fitness_field=fields[2], condition=conditions)\n",
    "parsed_data = sorted(parsed_data, reverse=True)\n",
    "\n",
    "rank_dict = {}\n",
    "\n",
    "for i in range(0, len(parsed_data)):\n",
    "    rank_dict[str(parsed_data[i].heuristic)] = i\n",
    "\n",
    "fitness_by_complexity_dict = {}\n",
    "for d in parsed_data:\n",
    "    c = int(d.complexity)\n",
    "    if c not in fitness_by_complexity_dict:\n",
    "        fitness_by_complexity_dict[c] = []\n",
    "    fitness_by_complexity_dict[c].append(float(d.fitness))\n",
    "\n",
    "map_complexity_to_key = dict()\n",
    "keys = fitness_by_complexity_dict.keys()\n",
    "keys = sorted(keys)\n",
    "\n",
    "for i in range(0, len(keys)):\n",
    "    map_complexity_to_key[keys[i]] = i"
   ]
  },
  {
   "cell_type": "code",
   "execution_count": 65,
   "metadata": {},
   "outputs": [],
   "source": [
    "top_heuristic_by_complexity_candidates_list = []\n",
    "\n",
    "for k in fitness_by_complexity_dict.keys():\n",
    "    top_heuristic_by_complexity_candidates_list.append((k, max(fitness_by_complexity_dict[k])))\n",
    "\n",
    "list_of_top_heuristics = []\n",
    "\n",
    "for p in parsed_data:\n",
    "    for h in top_heuristic_by_complexity_candidates_list:\n",
    "        if int(p.complexity) == h[0] and float(p.fitness) == h[1]:\n",
    "            list_of_top_heuristics.append(p.heuristic)"
   ]
  },
  {
   "cell_type": "code",
   "execution_count": 67,
   "metadata": {},
   "outputs": [],
   "source": [
    "match_csv_filename = \"MatchUp Results/mapping-\" + machine_alias + \"-2018-02-01 11:49:34.579895.csv.txt\"\n",
    "\n",
    "conditions = []\n",
    "\n",
    "match_csv_data = extractDictFromCSV(match_csv_filename)\n",
    "match_parsed_data = extractIndividualsFromMatchUpData(match_csv_data)\n",
    "\n",
    "heuristic_set = set()\n",
    "for match in match_parsed_data:\n",
    "    heuristic_set.add(match.heuristic_p1)\n",
    "    heuristic_set.add(match.heuristic_p2)"
   ]
  },
  {
   "cell_type": "code",
   "execution_count": 68,
   "metadata": {},
   "outputs": [],
   "source": [
    "def approximateComplexity(heuristic_str):\n",
    "    return findComplexity(gp.PrimitiveTree.from_string(heuristic_str, pset))"
   ]
  },
  {
   "cell_type": "code",
   "execution_count": 69,
   "metadata": {},
   "outputs": [],
   "source": [
    "template = []\n",
    "for i in range(0, len(list_of_top_heuristics)):\n",
    "    template.append(None)\n",
    "    \n",
    "results = []\n",
    "for i in range(len(list_of_top_heuristics)):\n",
    "    results.append(list(template))\n",
    "    \n",
    "for m in match_parsed_data:\n",
    "    if m.heuristic_p1 in list_of_top_heuristics and m.heuristic_p2 in list_of_top_heuristics:\n",
    "        c_p1 = approximateComplexity(m.heuristic_p1)\n",
    "        c_p2 = approximateComplexity(m.heuristic_p2)\n",
    "        results[map_complexity_to_key[c_p1]][map_complexity_to_key[c_p2]] = m.fitness_p1\n",
    "        results[map_complexity_to_key[c_p2]][map_complexity_to_key[c_p1]] = m.fitness_p2\n",
    "        #results[rank_dict[m.heuristic_p1]][rank_dict[m.heuristic_p2]] = m.fitness_p1\n",
    "        #results[rank_dict[m.heuristic_p2]][rank_dict[m.heuristic_p1]] = m.fitness_p2"
   ]
  },
  {
   "cell_type": "code",
   "execution_count": 62,
   "metadata": {},
   "outputs": [],
   "source": [
    "temp_dict = dict()\n",
    "for m in match_parsed_data:\n",
    "    if m.heuristic_p1 not in temp_dict:\n",
    "        temp_dict[m.heuristic_p1] = 0\n",
    "    if m.heuristic_p2 not in temp_dict:\n",
    "        temp_dict[m.heuristic_p2] = 0\n",
    "    \n",
    "    temp_dict[m.heuristic_p1] += m.fitness_p1\n",
    "    temp_dict[m.heuristic_p2] += m.fitness_p2\n",
    "\n",
    "eval_csv_filename = \"Comparison Results/sum_money_eval-\" + machine_alias + \".csv.txt\"\n",
    "createLogFile(eval_csv_filename, \"Heuristic; Complexity; Fitness;\\n\")\n",
    "\n",
    "for k in temp_dict:\n",
    "    logToFile(eval_csv_filename, str(k) + \"; \" + str(approximateComplexity(k)) + \"; \" + str(temp_dict[k]) + \";\\n\")"
   ]
  },
  {
   "cell_type": "code",
   "execution_count": 71,
   "metadata": {},
   "outputs": [
    {
     "data": {
      "text/html": [
       "<style  type=\"text/css\" >\n",
       "</style>  \n",
       "<table id=\"T_20c58a12_078c_11e8_b26d_b06ebf84563c\" > \n",
       "<thead></thead> \n",
       "<tbody></tbody> \n",
       "</table> "
      ],
      "text/plain": [
       "<pandas.io.formats.style.Styler at 0x7f86af8bac90>"
      ]
     },
     "execution_count": 71,
     "metadata": {},
     "output_type": "execute_result"
    }
   ],
   "source": [
    "##### TOP HEURISTIC OF EACH COMPLEXITY\n",
    "\n",
    "import pandas as pd\n",
    "import numpy as np\n",
    "\n",
    "def highlight_max(s):\n",
    "    '''\n",
    "    highlight the maximum in a Series yellow.\n",
    "    '''\n",
    "    if s > 0:\n",
    "        return 'background-color: green'\n",
    "    if s < 0:\n",
    "        return 'background-color: red'\n",
    "    return ''\n",
    "\n",
    "temp = []\n",
    "for x in results:\n",
    "    temp.append([])\n",
    "    for y in x:\n",
    "        if y != None:\n",
    "            temp[-1].append(-1 * y)\n",
    "        else:\n",
    "            temp[-1].append(0)\n",
    "            \n",
    "df = pd.DataFrame()\n",
    "df = pd.concat([df, pd.DataFrame(temp, columns=keys, index=keys)],\n",
    "               axis=1)\n",
    "df = df.transpose()\n",
    "#df.iloc[0, 2] = np.nan\n",
    "df.style\n",
    "s = df.style.applymap(highlight_max)\n",
    "\n",
    "#s = df.style.applymap(color_negative_red)\n",
    "s"
   ]
  },
  {
   "cell_type": "code",
   "execution_count": 58,
   "metadata": {},
   "outputs": [
    {
     "name": "stdout",
     "output_type": "stream",
     "text": [
      "(3, -8.835425)\n",
      "(4, -7.46355)\n",
      "(5, -0.5745750000000001)\n",
      "(6, 1.8648750000000995)\n",
      "(7, 6.281425)\n",
      "(8, -9.802600000000002)\n",
      "(9, 2.9875249999999802)\n",
      "(10, -1.42215)\n",
      "(11, 3.69819999999995)\n",
      "(13, 3.7097)\n",
      "(14, 3.06797500000006)\n",
      "(15, 3.7880499999997603)\n",
      "(16, 2.70055000000015)\n",
      "+++++++++++++++++++++++\n",
      "+++++++++++++++++++++++\n",
      "(3, 1)\n",
      "(4, 2)\n",
      "(5, 4)\n",
      "(6, 5)\n",
      "(7, 12)\n",
      "(8, 0)\n",
      "(9, 9)\n",
      "(10, 3)\n",
      "(11, 8)\n",
      "(13, 10)\n",
      "(14, 8)\n",
      "(15, 10)\n",
      "(16, 6)\n"
     ]
    }
   ],
   "source": [
    "for i in range(0, len(results)):\n",
    "    print (keys[i], sum(results[i][0:i] + results[i][i+1:]))\n",
    "\n",
    "print \"+++++++++++++++++++++++\"\n",
    "print \"+++++++++++++++++++++++\"\n",
    "    \n",
    "for i in range(0, len(results)):\n",
    "    temp = results[i][0:i] + results[i][i+1:]\n",
    "    print (keys[i], sum([1 if x > 0.0 else 0 for x in temp]))"
   ]
  }
 ],
 "metadata": {
  "kernelspec": {
   "display_name": "Python 2.X(Fernando)",
   "language": "python",
   "name": "python2.fms"
  },
  "language_info": {
   "codemirror_mode": {
    "name": "ipython",
    "version": 2
   },
   "file_extension": ".py",
   "mimetype": "text/x-python",
   "name": "python",
   "nbconvert_exporter": "python",
   "pygments_lexer": "ipython2",
   "version": "2.7.14"
  }
 },
 "nbformat": 4,
 "nbformat_minor": 2
}
