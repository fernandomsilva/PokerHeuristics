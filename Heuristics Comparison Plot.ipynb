{
 "cells": [
  {
   "cell_type": "code",
   "execution_count": 1,
   "metadata": {},
   "outputs": [],
   "source": [
    "import pyximport; pyximport.install()\n",
    "from csvparser import *"
   ]
  },
  {
   "cell_type": "code",
   "execution_count": 28,
   "metadata": {},
   "outputs": [],
   "source": [
    "csv_filename = \"Comparison Results/mapping-\" + machine_alias + \".csv.txt\"\n",
    "\n",
    "fields = [['Heuristic'], ['Complexity'], ['Fitness']]\n",
    "conditions = []\n",
    "\n",
    "csv_data = extractDictFromCSV(csv_filename)\n",
    "parsed_data = extractIndividualsFromData(csv_data, ind_field=fields[0], complexity_field= fields[1], fitness_field=fields[2], condition=conditions)\n",
    "parsed_data = sorted(parsed_data, reverse=True)"
   ]
  },
  {
   "cell_type": "code",
   "execution_count": 15,
   "metadata": {},
   "outputs": [],
   "source": [
    "jc_csv_filename = \"Comparison Results/just-Cepheus-mapping-\" + machine_alias + \".csv.txt\"\n",
    "\n",
    "fields = [['Heuristic'], ['Complexity'], ['Fitness']]\n",
    "conditions = []\n",
    "\n",
    "jc_csv_data = extractDictFromCSV(jc_csv_filename)\n",
    "jc_parsed_data = extractIndividualsFromData(jc_csv_data, ind_field=fields[0], complexity_field= fields[1], fitness_field=fields[2], condition=conditions)\n",
    "jc_parsed_data = sorted(jc_parsed_data, reverse=True)\n",
    "\n",
    "jtt_csv_filename = \"Comparison Results/just-TopTen-mapping-\" + machine_alias + \".csv.txt\"\n",
    "\n",
    "fields = [['Heuristic'], ['Complexity'], ['Fitness']]\n",
    "conditions = []\n",
    "\n",
    "jtt_csv_data = extractDictFromCSV(jtt_csv_filename)\n",
    "jtt_parsed_data = extractIndividualsFromData(jtt_csv_data, ind_field=fields[0], complexity_field= fields[1], fitness_field=fields[2], condition=conditions)\n",
    "jtt_parsed_data = sorted(jtt_parsed_data, reverse=True)"
   ]
  },
  {
   "cell_type": "code",
   "execution_count": 8,
   "metadata": {},
   "outputs": [],
   "source": [
    "sum_money_csv_filename = \"Comparison Results/sum_money_eval-\" + machine_alias + \".csv.txt\"\n",
    "\n",
    "fields = [['Heuristic'], ['Complexity'], ['Fitness']]\n",
    "conditions = []\n",
    "\n",
    "sum_money_csv_data = extractDictFromCSV(sum_money_csv_filename)\n",
    "sum_money_parsed_data = extractIndividualsFromData(sum_money_csv_data, ind_field=fields[0], complexity_field= fields[1], fitness_field=fields[2], condition=conditions)\n",
    "sum_money_parsed_data = sorted(sum_money_parsed_data, reverse=True)"
   ]
  },
  {
   "cell_type": "code",
   "execution_count": 22,
   "metadata": {},
   "outputs": [
    {
     "name": "stdout",
     "output_type": "stream",
     "text": [
      "IfThenElse(and_(hasDoubles(ARG0), lowestCardGE(ARG0, 7)), 'raise', 'check')\n",
      "IfThenElse(and_(cardDifferenceLE(ARG0, 2), lowestCardGE(ARG0, 11)), 'raise', 'check')\n",
      "IfThenElse(and_(hasDoubles(ARG0), lowestCardGE(ARG0, 6)), 'raise', 'check')\n"
     ]
    }
   ],
   "source": [
    "for p in parsed_data:\n",
    "    if p.complexity == 4:\n",
    "        print p.heuristic"
   ]
  },
  {
   "cell_type": "code",
   "execution_count": 23,
   "metadata": {},
   "outputs": [
    {
     "name": "stdout",
     "output_type": "stream",
     "text": [
      "IfThenElse(highestCardLE(ARG0, 10), 'check', IfThenElse(totalPotLE(ARG1, 2), 'raise', 'check'))\n",
      "IfThenElse(lowestCardLE(ARG0, 7), 'check', IfThenElse(totalPotGE(ARG1, 6), 'check', 'raise'))\n",
      "IfThenElse(lowestCardGE(ARG0, 10), 'raise', IfThenElse(totalPotGE(ARG1, 29), 'fold', 'check'))\n",
      "IfThenElse(lowestCardGE(ARG0, 10), 'raise', IfThenElse(totalPotGE(ARG1, 5), 'raise', 'check'))\n",
      "IfThenElse(lowestCardGE(ARG0, 10), 'raise', IfThenElse(totalPotGE(ARG1, 16), 'raise', 'check'))\n",
      "IfThenElse(totalPotLE(ARG1, 5), 'check', IfThenElse(cardDifferenceLE(ARG0, 10), 'fold', 'check'))\n",
      "IfThenElse(lowestCardLE(ARG0, 2), 'check', IfThenElse(totalPotGE(ARG1, 4), 'check', 'raise'))\n",
      "IfThenElse(lowestCardLE(ARG0, 2), 'check', IfThenElse(totalPotLE(ARG1, 4), 'raise', 'check'))\n",
      "IfThenElse(lowestCardGE(ARG0, 14), 'raise', IfThenElse(totalPotGE(ARG1, 4), 'check', 'raise'))\n",
      "IfThenElse(cardDifferenceLE(ARG0, 2), 'check', IfThenElse(totalPotLE(ARG1, 3), 'raise', 'check'))\n",
      "IfThenElse(hasDoubles(ARG0), 'raise', IfThenElse(totalPotGE(ARG1, 5), 'check', 'raise'))\n",
      "IfThenElse(highestCardGE(ARG0, 14), 'check', IfThenElse(totalPotGE(ARG1, 4), 'check', 'raise'))\n",
      "IfThenElse(totalPotLE(ARG1, 5), 'raise', IfThenElse(highestCardGE(ARG0, 5), 'check', 'fold'))\n"
     ]
    }
   ],
   "source": [
    "for p in parsed_data:\n",
    "    if p.complexity == 5:\n",
    "        print p.heuristic"
   ]
  },
  {
   "cell_type": "code",
   "execution_count": 29,
   "metadata": {},
   "outputs": [],
   "source": [
    "plot_data = []\n",
    "\n",
    "for ind in parsed_data:\n",
    "    plot_data.append([ind.fitness, ind.complexity])\n",
    "\n",
    "jc_plot_data = []\n",
    "\n",
    "for ind in jc_parsed_data:\n",
    "    jc_plot_data.append([ind.fitness, ind.complexity])\n",
    "\n",
    "jtt_plot_data = []\n",
    "\n",
    "for ind in jtt_parsed_data:\n",
    "    jtt_plot_data.append([ind.fitness, ind.complexity])\n",
    "    \n",
    "sum_money_plot_data = []\n",
    "\n",
    "for ind in sum_money_parsed_data:\n",
    "    sum_money_plot_data.append([ind.fitness, ind.complexity])"
   ]
  },
  {
   "cell_type": "code",
   "execution_count": 10,
   "metadata": {},
   "outputs": [],
   "source": [
    "import matplotlib.pyplot as plt\n",
    "\n",
    "%matplotlib inline\n",
    "\n",
    "def scatterplot(x, y, data):\n",
    "    fig, ax = plt.subplots()\n",
    "    fig.set_size_inches(30.0, 30.0)\n",
    "\n",
    "    plt.subplot(326)\n",
    "    #x = [scatterplot_data['dice'][i][0] for i in range(0, 50)]\n",
    "    #y = [scatterplot_data['dice'][i][1] for i in range(0, 50)]\n",
    "    #markers = [(5,2), \">\", (5, 0), (5, 1), '+']\n",
    "    #colors = [(1,0,0), (0,1,0), (0,0,1), (1,1,0), (0,1,1)]\n",
    "\n",
    "    for i in range(0, len(x)):\n",
    "        plt.scatter(x[i], y[i], s=80, c=(0,0,0), marker='o')\n",
    "\n",
    "    createLineInScatter(createPointsLineOnScatter(data))\n",
    "        \n",
    "    plt.show()\n",
    "\n",
    "def createPointsLineOnScatter(data):\n",
    "    data_dict = {}\n",
    "    for d in data:\n",
    "        if d[1] not in data_dict:\n",
    "            data_dict[d[1]] = [d[0]]\n",
    "        else:\n",
    "            data_dict[d[1]].append(d[0])\n",
    "\n",
    "    points = []\n",
    "    for key in data_dict:\n",
    "        points.append((key, max(data_dict[key])))\n",
    "\n",
    "    return points\n",
    "\n",
    "def createLineInScatter(points):\n",
    "    x = [p[0] for p in points]\n",
    "    y = [p[1] for p in points]\n",
    "    \n",
    "    plt.plot(x, y, c='r')"
   ]
  },
  {
   "cell_type": "code",
   "execution_count": 30,
   "metadata": {},
   "outputs": [
    {
     "data": {
      "image/png": "[encoded data removed]",
      "text/plain": [
       "<matplotlib.figure.Figure at 0x7f0c34020390>"
      ]
     },
     "metadata": {},
     "output_type": "display_data"
    }
   ],
   "source": [
    "temp = [d for d in plot_data if d[0] > -0.25]\n",
    "#temp = plot_data\n",
    "\n",
    "x = [d[1] for d in temp]\n",
    "y = [d[0] for d in temp]\n",
    "\n",
    "scatterplot(x, y, plot_data)"
   ]
  },
  {
   "cell_type": "code",
   "execution_count": 20,
   "metadata": {},
   "outputs": [],
   "source": [
    "temp = [d for d in jc_plot_data if d[0] > -0.25]\n",
    "#temp = plot_data\n",
    "\n",
    "x = [d[1] for d in temp]\n",
    "y = [d[0] for d in temp]\n",
    "\n",
    "#scatterplot(x, y, jc_plot_data)"
   ]
  },
  {
   "cell_type": "code",
   "execution_count": 19,
   "metadata": {},
   "outputs": [],
   "source": [
    "temp = [d for d in jtt_plot_data if d[0] > -0.25]\n",
    "#temp = plot_data\n",
    "\n",
    "x = [d[1] for d in temp]\n",
    "y = [d[0] for d in temp]\n",
    "\n",
    "#scatterplot(x, y, jtt_plot_data)"
   ]
  },
  {
   "cell_type": "code",
   "execution_count": 13,
   "metadata": {},
   "outputs": [],
   "source": [
    "temp = sum_money_plot_data\n",
    "\n",
    "x = [d[1] for d in temp]\n",
    "y = [d[0] for d in temp]\n",
    "\n",
    "#scatterplot(x, y, sum_money_plot_data)"
   ]
  }
 ],
 "metadata": {
  "kernelspec": {
   "display_name": "Python 2.X(Fernando)",
   "language": "python",
   "name": "python2.fms"
  },
  "language_info": {
   "codemirror_mode": {
    "name": "ipython",
    "version": 2
   },
   "file_extension": ".py",
   "mimetype": "text/x-python",
   "name": "python",
   "nbconvert_exporter": "python",
   "pygments_lexer": "ipython2",
   "version": "2.7.14"
  }
 },
 "nbformat": 4,
 "nbformat_minor": 2
}
