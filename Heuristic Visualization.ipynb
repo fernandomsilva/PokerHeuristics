{
 "cells": [
  {
   "cell_type": "code",
   "execution_count": 1,
   "metadata": {
    "collapsed": true
   },
   "outputs": [],
   "source": [
    "data = [\n",
    "    [114.21915, 3],\n",
    "    [114.583975, 3],\n",
    "    [126.0458625, 5],\n",
    "    [123.74110625, 7],\n",
    "    [125.033475, 7],\n",
    "    [127.00095, 6],\n",
    "    [126.63054375000002, 5],\n",
    "    [123.03987499999994, 4],\n",
    "    [124.7340562500001, 4],\n",
    "    [128.94325000000003, 5],\n",
    "    [125.65300000000002, 12],\n",
    "    [128.7801374999999, 12],\n",
    "    [125.8603062499999, 9],\n",
    "    [128.347125, 7],\n",
    "    [124.00176875000011, 7],\n",
    "    [124.33968750000008, 9],\n",
    "    [125.15343125000004, 12],\n",
    "    [129.48208124999996, 14],\n",
    "    [128.59472499999993, 14]\n",
    "]"
   ]
  },
  {
   "cell_type": "code",
   "execution_count": 8,
   "metadata": {
    "collapsed": true
   },
   "outputs": [],
   "source": [
    "import matplotlib.pyplot as plt\n",
    "\n",
    "%matplotlib inline\n",
    "\n",
    "def scatterplot(x, y, data):\n",
    "    fig, ax = plt.subplots()\n",
    "    fig.set_size_inches(30.0, 30.0)\n",
    "\n",
    "    plt.subplot(326)\n",
    "    #x = [scatterplot_data['dice'][i][0] for i in range(0, 50)]\n",
    "    #y = [scatterplot_data['dice'][i][1] for i in range(0, 50)]\n",
    "    #markers = [(5,2), \">\", (5, 0), (5, 1), '+']\n",
    "    #colors = [(1,0,0), (0,1,0), (0,0,1), (1,1,0), (0,1,1)]\n",
    "\n",
    "    for i in range(0, len(x)):\n",
    "        plt.scatter(x[i], y[i], s=80, c=(0,0,0), marker='o')\n",
    "\n",
    "    createLineInScatter(createPointsLineOnScatter(data))\n",
    "        \n",
    "    plt.show()\n",
    "\n",
    "def createPointsLineOnScatter(data):\n",
    "    data_dict = {}\n",
    "    for d in data:\n",
    "        if d[1] not in data_dict:\n",
    "            data_dict[d[1]] = [d[0]]\n",
    "        else:\n",
    "            data_dict[d[1]].append(d[0])\n",
    "\n",
    "    points = []\n",
    "    for key in data_dict:\n",
    "        points.append((key, max(data_dict[key])))\n",
    "\n",
    "    return points\n",
    "\n",
    "def createLineInScatter(points):\n",
    "    x = [p[0] for p in points]\n",
    "    y = [p[1] for p in points]\n",
    "    \n",
    "    plt.plot(x, y, c='r')"
   ]
  },
  {
   "cell_type": "code",
   "execution_count": 10,
   "metadata": {
    "collapsed": false
   },
   "outputs": [
    {
     "data": {
      "image/png": "[encoded data removed]",
      "text/plain": [
       "<matplotlib.figure.Figure at 0x7f1e415d1a90>"
      ]
     },
     "metadata": {},
     "output_type": "display_data"
    }
   ],
   "source": [
    "x = [d[1] for d in data]\n",
    "y = [d[0] for d in data]\n",
    "\n",
    "scatterplot(x, y, data)"
   ]
  }
 ],
 "metadata": {
  "anaconda-cloud": {},
  "kernelspec": {
   "display_name": "Python [conda env:py27]",
   "language": "python",
   "name": "conda-env-py27-py"
  },
  "language_info": {
   "codemirror_mode": {
    "name": "ipython",
    "version": 2
   },
   "file_extension": ".py",
   "mimetype": "text/x-python",
   "name": "python",
   "nbconvert_exporter": "python",
   "pygments_lexer": "ipython2",
   "version": "2.7.11"
  }
 },
 "nbformat": 4,
 "nbformat_minor": 1
}
